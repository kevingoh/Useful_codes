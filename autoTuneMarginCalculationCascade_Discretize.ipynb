{
 "cells": [
  {
   "cell_type": "code",
   "execution_count": 1,
   "metadata": {},
   "outputs": [],
   "source": [
    "from numpy import *             # Grab all of the NumPy functions\n",
    "import matplotlib.pyplot as plt  # Grab MATLAB plotting functions\n",
    "import control.matlab as mtl    # MATLAB-like functions\n",
    "import control as ctrl\n",
    "%matplotlib inline\n",
    "from sympy import *\n",
    "import pandas as pd\n",
    "import scipy.signal as signal"
   ]
  },
  {
   "cell_type": "markdown",
   "metadata": {},
   "source": [
    "## References\n",
    "Python-Control Reference:\n",
    "    - https://python-control.readthedocs.io/en/0.8.3/intro.html\n",
    "Scipy.Signal Reference\n",
    "    - https://docs.scipy.org/doc/scipy/reference/signal.html\n",
    "   "
   ]
  },
  {
   "cell_type": "code",
   "execution_count": 2,
   "metadata": {},
   "outputs": [
    {
     "name": "stdout",
     "output_type": "stream",
     "text": [
      "(array([2., 2.]), array([0.1, 0.1]), array([-0.2+1.98997487j, -0.2-1.98997487j]))\n",
      "(array([2., 2.]), array([0.1, 0.1]), array([0.9608547+0.19377224j, 0.9608547-0.19377224j]))\n"
     ]
    }
   ],
   "source": [
    "#test C2D...serve as reference and playground\n",
    "k  = 3.0\n",
    "wn = 2.0 #rad/sec\n",
    "zeta = 0.1\n",
    "dT = 0.1\n",
    "numc = [k*wn**2]\n",
    "denc = [1,2*wn*zeta,wn**2]\n",
    "sysc = mtl.tf( numc, denc)\n",
    "sysd = signal.cont2discrete([numc,denc],dT)\n",
    "print(sysc.damp()) #will return Wn_array, zeta_array, poles_array of continuous system\n",
    "sysd_mtl = mtl.tf(sysd[0][0],sysd[1],sysd[2])\n",
    "print(sysd_mtl.damp()) #will return Wn_array, zeta_array, poles_array of discrete system\n",
    "#sysd[0][0]"
   ]
  },
  {
   "cell_type": "markdown",
   "metadata": {},
   "source": [
    "Define systems"
   ]
  },
  {
   "cell_type": "code",
   "execution_count": 3,
   "metadata": {},
   "outputs": [],
   "source": [
    "#First System\n",
    "s, K1, T1, Ki1, Kp1, C1, G1, CL1, Ttune1, Tguess1, Kguess1, M1, alpha1 = symbols('s K1 T1 Ki1 Kp1 C1 G1 CL1 Ttune1 Tguess1 Kguess1 M1 alpha1 ')\n",
    "#second Ssytem\n",
    "K2, T2, Ki2, Kp2, C2, G2, CL2, Ttune2, Tguess2, Kguess2, M2, alpha2 = symbols('K2 T2 Ki2 Kp2 C2 G2 CL2 Ttune2 Tguess2 Kguess2 M2 alpha2 ')"
   ]
  },
  {
   "cell_type": "markdown",
   "metadata": {},
   "source": [
    "First Order "
   ]
  },
  {
   "cell_type": "code",
   "execution_count": 4,
   "metadata": {},
   "outputs": [],
   "source": [
    "#innerLoop\n",
    "expr_G1 =  K1/(T1*s+1)\n",
    "expr_C1 = Kp1+Ki1/s"
   ]
  },
  {
   "cell_type": "code",
   "execution_count": 5,
   "metadata": {},
   "outputs": [
    {
     "data": {
      "text/latex": [
       "$\\displaystyle \\frac{K_{1} \\left(\\frac{Ki_{1}}{s} + Kp_{1}\\right)}{\\left(T_{1} s + 1\\right) \\left(\\frac{K_{1} \\left(\\frac{Ki_{1}}{s} + Kp_{1}\\right)}{T_{1} s + 1} + 1\\right)}$"
      ],
      "text/plain": [
       "K1*(Ki1/s + Kp1)/((T1*s + 1)*(K1*(Ki1/s + Kp1)/(T1*s + 1) + 1))"
      ]
     },
     "execution_count": 5,
     "metadata": {},
     "output_type": "execute_result"
    }
   ],
   "source": [
    "expr_CL1 = expr_C1*expr_G1 / (1 + expr_C1*expr_G1)\n",
    "expr_CL1"
   ]
  },
  {
   "cell_type": "code",
   "execution_count": 6,
   "metadata": {},
   "outputs": [
    {
     "data": {
      "text/latex": [
       "$\\displaystyle \\frac{K_{1} Ki_{1}}{K_{1} Ki_{1} + T_{1} s^{2} + s \\left(K_{1} Kp_{1} + 1\\right)} + \\frac{K_{1} Kp_{1} s}{K_{1} Ki_{1} + T_{1} s^{2} + s \\left(K_{1} Kp_{1} + 1\\right)}$"
      ],
      "text/plain": [
       "K1*Ki1/(K1*Ki1 + T1*s**2 + s*(K1*Kp1 + 1)) + K1*Kp1*s/(K1*Ki1 + T1*s**2 + s*(K1*Kp1 + 1))"
      ]
     },
     "execution_count": 6,
     "metadata": {},
     "output_type": "execute_result"
    }
   ],
   "source": [
    "collect(expr_CL1.simplify().expand(),s)"
   ]
  },
  {
   "cell_type": "markdown",
   "metadata": {},
   "source": [
    "Test The Control"
   ]
  },
  {
   "cell_type": "code",
   "execution_count": 7,
   "metadata": {},
   "outputs": [
    {
     "data": {
      "text/latex": [
       "$\\displaystyle \\frac{K_{1} Tguess_{1} s}{K_{1} + Kguess_{1} T_{1} Ttune_{1} s^{2} + s \\left(K_{1} Tguess_{1} + Kguess_{1} Ttune_{1}\\right)} + \\frac{K_{1}}{K_{1} + Kguess_{1} T_{1} Ttune_{1} s^{2} + s \\left(K_{1} Tguess_{1} + Kguess_{1} Ttune_{1}\\right)}$"
      ],
      "text/plain": [
       "K1*Tguess1*s/(K1 + Kguess1*T1*Ttune1*s**2 + s*(K1*Tguess1 + Kguess1*Ttune1)) + K1/(K1 + Kguess1*T1*Ttune1*s**2 + s*(K1*Tguess1 + Kguess1*Ttune1))"
      ]
     },
     "execution_count": 7,
     "metadata": {},
     "output_type": "execute_result"
    }
   ],
   "source": [
    "#Tuning Params Substitution\n",
    "# Let Ttune = Trise/Ln(9) \n",
    "\n",
    "expr_CL1_tuned = expr_CL1.subs(Kp1,Tguess1/(Kguess1*Ttune1))\n",
    "expr_CL1_tuned = expr_CL1_tuned.subs(Ki1,1/(Kguess1*Ttune1))\n",
    "collect(expr_CL1_tuned.simplify().expand(),s)\n"
   ]
  },
  {
   "cell_type": "code",
   "execution_count": 8,
   "metadata": {},
   "outputs": [
    {
     "data": {
      "text/latex": [
       "$\\displaystyle \\frac{M_{1} Tguess_{1} s}{M_{1} Tguess_{1} Ttune_{1} s^{2} + M_{1} + s \\left(M_{1} Tguess_{1} + Ttune_{1}\\right)} + \\frac{M_{1}}{M_{1} Tguess_{1} Ttune_{1} s^{2} + M_{1} + s \\left(M_{1} Tguess_{1} + Ttune_{1}\\right)}$"
      ],
      "text/plain": [
       "M1*Tguess1*s/(M1*Tguess1*Ttune1*s**2 + M1 + s*(M1*Tguess1 + Ttune1)) + M1/(M1*Tguess1*Ttune1*s**2 + M1 + s*(M1*Tguess1 + Ttune1))"
      ]
     },
     "execution_count": 8,
     "metadata": {},
     "output_type": "execute_result"
    }
   ],
   "source": [
    "#Test Replacement with Margin of Errror in ID, where Kreal = M * Kguess; Treal = M*Tgues\n",
    "expr_CL1_tuned_m = expr_CL1_tuned.subs(K1,M1*Kguess1)\n",
    "expr_CL1_tuned_m = expr_CL1_tuned_m.subs(T1,M1*Tguess1)\n",
    "expr_CL1_tuned_m = collect(expr_CL1_tuned_m.simplify().expand(),s)\n",
    "expr_CL1_tuned_m"
   ]
  },
  {
   "cell_type": "code",
   "execution_count": 9,
   "metadata": {},
   "outputs": [],
   "source": [
    "#Now check the Response using Control -- Specs\n",
    "m1 = 1.1\n",
    "t1 = 1.0\n",
    "k1 = 1.0\n",
    "a1  = 10.0 #alpha \n",
    "tguess1 = t1/m1\n",
    "kguess1 = k1/m1\n",
    "ttune1 = tguess1/a1\n",
    "kp1 = tguess1 / kguess1 / ttune1\n",
    "ki1 = kp1 / tguess1\n",
    "num = [m1*tguess1, m1]\n",
    "den = [m1*tguess1*ttune1, m1*tguess1+ttune1, m1]"
   ]
  },
  {
   "cell_type": "code",
   "execution_count": 10,
   "metadata": {},
   "outputs": [
    {
     "name": "stdout",
     "output_type": "stream",
     "text": [
      "system:  \n",
      "          s + 1.1\n",
      "---------------------------\n",
      "0.09091 s^2 + 1.091 s + 1.1\n",
      "\n",
      "wn: [10.88876262  1.11123738]  zeta: [1. 1.]  poles: [-10.88876262  -1.11123738]\n"
     ]
    }
   ],
   "source": [
    "#Continuous Time Model\n",
    "tf1 = mtl.tf(num,den)\n",
    "damp = tf1.damp()\n",
    "print('system: ',tf1)\n",
    "print('wn:',damp[0],' zeta:',damp[1],' poles:',damp[2])"
   ]
  },
  {
   "cell_type": "code",
   "execution_count": 11,
   "metadata": {},
   "outputs": [
    {
     "data": {
      "image/png": "[encoded data removed]",
      "text/plain": [
       "<Figure size 432x288 with 1 Axes>"
      ]
     },
     "metadata": {
      "needs_background": "light"
     },
     "output_type": "display_data"
    }
   ],
   "source": [
    "t, y = mtl.step(tf1)\n",
    "plt.plot(y, t)\n",
    "plt.title(\"Step Response\")\n",
    "plt.grid()\n",
    "plt.xlabel(\"time (s)\")\n",
    "plt.ylabel(\"y(t)\")\n",
    "plt.show()"
   ]
  },
  {
   "cell_type": "code",
   "execution_count": 12,
   "metadata": {},
   "outputs": [
    {
     "name": "stdout",
     "output_type": "stream",
     "text": [
      "system:  \n",
      "  0.01094 z - 0.01093\n",
      "----------------------\n",
      "z^2 - 1.988 z + 0.9881\n",
      "\n",
      "dt = 0.001\n",
      "\n",
      "wn: [ 1.11123738 10.88876262]  zeta: [1. 1.]  poles: [0.99888938 0.98917031]\n"
     ]
    }
   ],
   "source": [
    "#check the discretized model\n",
    "dT = 0.001\n",
    "sysd = signal.cont2discrete([num,den],dT)\n",
    "sysd_mtl = mtl.tf(sysd[0][0],sysd[1],sysd[2])\n",
    "damp = sysd_mtl.damp()\n",
    "print('system: ',sysd_mtl)\n",
    "print('wn:',damp[0],' zeta:',damp[1],' poles:',damp[2])"
   ]
  },
  {
   "cell_type": "code",
   "execution_count": 13,
   "metadata": {},
   "outputs": [],
   "source": [
    "#check Stability Margins for a range of alphas and M1s\n",
    "m1r = [0.8, 0.9, 1.0, 1.1, 1.2]\n",
    "a1r = [2.0, 5.0, 10.0, 20.0, 50.0]\n",
    "sys_c_stab = pd.DataFrame(data={'Alpha:':[], 'margin':[], 'PM':[], 'GM':[], 'SM':[], 'WG':[], 'WP':[], 'WS':[], 'Wn':[], 'Zeta':[], 'Poles':[]}) \n",
    "sys_d_stab = pd.DataFrame(data={'Alpha:':[], 'margin':[], 'PM':[], 'GM':[], 'SM':[], 'WG':[], 'WP':[], 'WS':[], 'Wn':[], 'Zeta':[], 'Poles':[]}) \n",
    "#sys1_stab = pd.DataFrame([[a,m,pmt,gmt,smt,wgt,wpt,wst]],columns = ['Alpha','margin','PM','GM','SM','WG','WP','WS'])\n",
    "dT = 0.001\n",
    "\n",
    "def update_tf(m,a,t1,k1,dT):\n",
    "    tguess1 = t1/m\n",
    "    kguess1 = k1/m\n",
    "    ttune1 = tguess1/a\n",
    "    num = [m*tguess1, m]\n",
    "    den = [m*tguess1*ttune1, m*tguess1+ttune1, m]\n",
    "    #kp1 = tguess1 / kguess1 / ttune1\n",
    "    #ki1 = kp1 / tguess1\n",
    "    tfc = mtl.tf(num,den)\n",
    "    sysd = signal.cont2discrete([num,den],dT)\n",
    "    tfd = mtl.tf(sysd[0][0],sysd[1],sysd[2])\n",
    "    return tfc,tfd\n",
    "    \n",
    "\n",
    "for a in a1r:\n",
    "    for m in m1r:\n",
    "        tfc,tfd = update_tf(m,a,1.0,1.0,dT)\n",
    "        gmt,pmt,smt,wgt,wpt,wst = ctrl.stability_margins(tfc)\n",
    "        damp = tfc.damp()\n",
    "        dfc = pd.DataFrame([[a,m,pmt,gmt,smt,wgt,wpt,wst,damp[0],damp[1],damp[2]]],columns = ['Alpha','margin','PM','GM','SM','WG','WP','WS','Wn','Zeta','Poles'])\n",
    "        sys_c_stab = sys_c_stab.append(dfc,ignore_index=True)\n",
    "        gmt,pmt,smt,wgt,wpt,wst = ctrl.stability_margins(tfd)\n",
    "        damp = tfd.damp()\n",
    "        dfc = pd.DataFrame([[a,m,pmt,gmt,smt,wgt,wpt,wst,damp[0],damp[1],damp[2]]],columns = ['Alpha','margin','PM','GM','SM','WG','WP','WS','Wn','Zeta','Poles']) \n",
    "        sys_d_stab = sys_d_stab.append(dfc,ignore_index=True)\n",
    "        \n",
    "        "
   ]
  },
  {
   "cell_type": "code",
   "execution_count": 14,
   "metadata": {},
   "outputs": [
    {
     "name": "stdout",
     "output_type": "stream",
     "text": [
      "<class 'pandas.core.frame.DataFrame'>\n",
      "RangeIndex: 25 entries, 0 to 24\n",
      "Data columns (total 12 columns):\n",
      " #   Column  Non-Null Count  Dtype  \n",
      "---  ------  --------------  -----  \n",
      " 0   Alpha:  0 non-null      float64\n",
      " 1   margin  25 non-null     float64\n",
      " 2   PM      25 non-null     float64\n",
      " 3   GM      25 non-null     float64\n",
      " 4   SM      25 non-null     float64\n",
      " 5   WG      0 non-null      float64\n",
      " 6   WP      8 non-null      float64\n",
      " 7   WS      0 non-null      float64\n",
      " 8   Wn      25 non-null     object \n",
      " 9   Zeta    25 non-null     object \n",
      " 10  Poles   25 non-null     object \n",
      " 11  Alpha   25 non-null     float64\n",
      "dtypes: float64(9), object(3)\n",
      "memory usage: 2.5+ KB\n",
      "Cont:  None\n",
      "<class 'pandas.core.frame.DataFrame'>\n",
      "RangeIndex: 25 entries, 0 to 24\n",
      "Data columns (total 12 columns):\n",
      " #   Column  Non-Null Count  Dtype  \n",
      "---  ------  --------------  -----  \n",
      " 0   Alpha:  0 non-null      float64\n",
      " 1   margin  25 non-null     float64\n",
      " 2   PM      25 non-null     float64\n",
      " 3   GM      25 non-null     float64\n",
      " 4   SM      25 non-null     float64\n",
      " 5   WG      25 non-null     float64\n",
      " 6   WP      0 non-null      float64\n",
      " 7   WS      0 non-null      float64\n",
      " 8   Wn      25 non-null     object \n",
      " 9   Zeta    25 non-null     object \n",
      " 10  Poles   25 non-null     object \n",
      " 11  Alpha   25 non-null     float64\n",
      "dtypes: float64(9), object(3)\n",
      "memory usage: 2.5+ KB\n",
      "Disc:  None\n"
     ]
    }
   ],
   "source": [
    "print('Cont: ',sys_c_stab.info())\n",
    "print('Disc: ',sys_d_stab.info())"
   ]
  },
  {
   "cell_type": "code",
   "execution_count": 15,
   "metadata": {},
   "outputs": [
    {
     "name": "stdout",
     "output_type": "stream",
     "text": [
      "Cont min PM:  169.59892228006845  GM: inf  Zeta: 1.0\n",
      "Disc min PM:  inf  GM: 0.9999999999080991  Zeta: 1.0\n"
     ]
    }
   ],
   "source": [
    "print('Cont min PM: ',sys_c_stab['PM'].min(), ' GM:',sys_c_stab['GM'].min(), ' Zeta:',sys_c_stab['Zeta'][0].min())\n",
    "print('Disc min PM: ',sys_d_stab['PM'].min(), ' GM:',sys_d_stab['GM'].min(), ' Zeta:',sys_d_stab['Zeta'][0].min())"
   ]
  },
  {
   "cell_type": "code",
   "execution_count": 16,
   "metadata": {},
   "outputs": [
    {
     "data": {
      "text/latex": [
       "$\\displaystyle \\frac{K_{1} K_{2} Ki_{1} Ki_{2}}{K_{1} K_{2} Ki_{1} Ki_{2} + T_{1} T_{2} s^{4} + s^{3} \\left(K_{1} Kp_{1} T_{2} + T_{1} + T_{2}\\right) + s^{2} \\left(K_{1} K_{2} Kp_{1} Kp_{2} + K_{1} Ki_{1} T_{2} + K_{1} Kp_{1} + 1\\right) + s \\left(K_{1} K_{2} Ki_{1} Kp_{2} + K_{1} K_{2} Ki_{2} Kp_{1} + K_{1} Ki_{1}\\right)} + \\frac{K_{1} K_{2} Kp_{1} Kp_{2} s^{2}}{K_{1} K_{2} Ki_{1} Ki_{2} + T_{1} T_{2} s^{4} + s^{3} \\left(K_{1} Kp_{1} T_{2} + T_{1} + T_{2}\\right) + s^{2} \\left(K_{1} K_{2} Kp_{1} Kp_{2} + K_{1} Ki_{1} T_{2} + K_{1} Kp_{1} + 1\\right) + s \\left(K_{1} K_{2} Ki_{1} Kp_{2} + K_{1} K_{2} Ki_{2} Kp_{1} + K_{1} Ki_{1}\\right)} + s \\left(\\frac{K_{1} K_{2} Ki_{1} Kp_{2}}{K_{1} K_{2} Ki_{1} Ki_{2} + T_{1} T_{2} s^{4} + s^{3} \\left(K_{1} Kp_{1} T_{2} + T_{1} + T_{2}\\right) + s^{2} \\left(K_{1} K_{2} Kp_{1} Kp_{2} + K_{1} Ki_{1} T_{2} + K_{1} Kp_{1} + 1\\right) + s \\left(K_{1} K_{2} Ki_{1} Kp_{2} + K_{1} K_{2} Ki_{2} Kp_{1} + K_{1} Ki_{1}\\right)} + \\frac{K_{1} K_{2} Ki_{2} Kp_{1}}{K_{1} K_{2} Ki_{1} Ki_{2} + T_{1} T_{2} s^{4} + s^{3} \\left(K_{1} Kp_{1} T_{2} + T_{1} + T_{2}\\right) + s^{2} \\left(K_{1} K_{2} Kp_{1} Kp_{2} + K_{1} Ki_{1} T_{2} + K_{1} Kp_{1} + 1\\right) + s \\left(K_{1} K_{2} Ki_{1} Kp_{2} + K_{1} K_{2} Ki_{2} Kp_{1} + K_{1} Ki_{1}\\right)}\\right)$"
      ],
      "text/plain": [
       "K1*K2*Ki1*Ki2/(K1*K2*Ki1*Ki2 + T1*T2*s**4 + s**3*(K1*Kp1*T2 + T1 + T2) + s**2*(K1*K2*Kp1*Kp2 + K1*Ki1*T2 + K1*Kp1 + 1) + s*(K1*K2*Ki1*Kp2 + K1*K2*Ki2*Kp1 + K1*Ki1)) + K1*K2*Kp1*Kp2*s**2/(K1*K2*Ki1*Ki2 + T1*T2*s**4 + s**3*(K1*Kp1*T2 + T1 + T2) + s**2*(K1*K2*Kp1*Kp2 + K1*Ki1*T2 + K1*Kp1 + 1) + s*(K1*K2*Ki1*Kp2 + K1*K2*Ki2*Kp1 + K1*Ki1)) + s*(K1*K2*Ki1*Kp2/(K1*K2*Ki1*Ki2 + T1*T2*s**4 + s**3*(K1*Kp1*T2 + T1 + T2) + s**2*(K1*K2*Kp1*Kp2 + K1*Ki1*T2 + K1*Kp1 + 1) + s*(K1*K2*Ki1*Kp2 + K1*K2*Ki2*Kp1 + K1*Ki1)) + K1*K2*Ki2*Kp1/(K1*K2*Ki1*Ki2 + T1*T2*s**4 + s**3*(K1*Kp1*T2 + T1 + T2) + s**2*(K1*K2*Kp1*Kp2 + K1*Ki1*T2 + K1*Kp1 + 1) + s*(K1*K2*Ki1*Kp2 + K1*K2*Ki2*Kp1 + K1*Ki1)))"
      ]
     },
     "execution_count": 16,
     "metadata": {},
     "output_type": "execute_result"
    }
   ],
   "source": [
    "#create Outer Loop\n",
    "expr_G2 = expr_CL1 * K2/(T2*s+1)\n",
    "expr_C2 = Kp2+Ki2/s\n",
    "expr_CL2 = expr_C2 * expr_G2 / (1 + expr_C2*expr_G2)\n",
    "collect(expr_CL2.simplify().expand(),s)"
   ]
  },
  {
   "cell_type": "code",
   "execution_count": 17,
   "metadata": {},
   "outputs": [
    {
     "data": {
      "text/latex": [
       "$$\\frac{72 s^2 + 576 s + 864}{0.12 s^4 + 8 s^3 + 128.2 s^2 + 648 s + 864}$$"
      ],
      "text/plain": [
       "\n",
       "           72 s^2 + 576 s + 864\n",
       "------------------------------------------\n",
       "0.12 s^4 + 8 s^3 + 128.2 s^2 + 648 s + 864"
      ]
     },
     "execution_count": 17,
     "metadata": {},
     "output_type": "execute_result"
    }
   ],
   "source": [
    "#check step response\n",
    "#Now check the Response using Control -- Specs\n",
    "\n",
    "t1 = 0.2\n",
    "t2 = 0.6\n",
    "k1 = 1.2\n",
    "k2 = 0.8\n",
    "m1 = 1.2\n",
    "m2 = 1.2\n",
    "a1  = 10.0 #alpha \n",
    "a2  = 5.0\n",
    "\n",
    "tguess1 = t1/m1\n",
    "kguess1 = k1/m1\n",
    "ttune1 = tguess1/a1\n",
    "tguess2 = t2/m2\n",
    "kguess2 = k2/m2\n",
    "ttune2 = tguess2/a2\n",
    "kp1 = tguess1 / kguess1 / ttune1\n",
    "ki1 = kp1 / tguess1\n",
    "kp2 = tguess2 / kguess2 / ttune2\n",
    "ki2 = kp2 / tguess2\n",
    "\n",
    "ds4 = t1*t2\n",
    "ds3 = k1*kp1*t2 + t1 + t2\n",
    "ds2 = k1*k2*kp1*kp2 + k1*ki1*t2 + k1*kp1 + 1\n",
    "ds1 = k1*k2*ki1*kp2 + k1*k2*ki2*kp1 + k1*ki1\n",
    "ds0 = k1*k2*ki1*ki2\n",
    "\n",
    "ns2 = k1*k2*kp1*kp2\n",
    "ns1 = k1*k2*ki1*kp2 + k1*k2*ki2*kp1\n",
    "ns0 = k1*k2*ki1*ki2\n",
    "\n",
    "\n",
    "den_cas = [ds4,ds3,ds2,ds1,ds0]\n",
    "num_cas = [ns2,ns1,ns0]\n",
    "\n",
    "tf_cascade = mtl.tf(num_cas,den_cas)\n",
    "tf_cascade"
   ]
  },
  {
   "cell_type": "code",
   "execution_count": 18,
   "metadata": {},
   "outputs": [
    {
     "data": {
      "image/png": "[encoded data removed]",
      "text/plain": [
       "<Figure size 432x288 with 1 Axes>"
      ]
     },
     "metadata": {
      "needs_background": "light"
     },
     "output_type": "display_data"
    }
   ],
   "source": [
    "t, y = mtl.step(tf_cascade)\n",
    "plt.plot(y, t)\n",
    "plt.title(\"Step Response\")\n",
    "plt.grid()\n",
    "plt.xlabel(\"time (s)\")\n",
    "plt.ylabel(\"y(t)\")\n",
    "plt.show()"
   ]
  },
  {
   "cell_type": "code",
   "execution_count": 27,
   "metadata": {},
   "outputs": [],
   "source": [
    "#Check Outer/Inner Loops tuning results using Control Module\n",
    "\n",
    "m1r = [0.5,0.8, 0.9, 1.0, 1.1, 1.2,2.0]\n",
    "a1r = [2.0, 5.0, 10.0, 20.0, 50.0]\n",
    "m2r = [0.5,0.8, 0.9, 1.0, 1.1, 1.2,2.0]\n",
    "a2r = [0.5, 2.0, 5.0, 7.5, 10.0]\n",
    "t1 = 0.3\n",
    "t2 = 1.0\n",
    "k1 = 2.0\n",
    "k2 = 1.0\n",
    "\n",
    "dT2 = 0.010\n",
    "sys_c_stab_cas = pd.DataFrame(data={'a1:':[], 'm1':[], 'a2:':[], 'm2':[], 'PM':[], 'GM':[], 'SM':[], 'WG':[], 'WP':[], 'WS':[], 'Wn':[], 'Zeta':[], 'Poles':[]}) \n",
    "sys_d_stab_cas = pd.DataFrame(data={'a1:':[], 'm1':[], 'a2:':[], 'm2':[], 'PM':[], 'GM':[], 'SM':[], 'WG':[], 'WP':[], 'WS':[], 'Wn':[], 'Zeta':[], 'Poles':[]}) \n",
    "\n",
    "def update_cascaded_tf_cd(m1,a1,m2,a2,t1,t2,k1,k2,dT):\n",
    "    tguess1 = t1/m1\n",
    "    kguess1 = k1/m1\n",
    "    ttune1 = tguess1/a1\n",
    "\n",
    "    tguess2 = t2/m2\n",
    "    kguess2 = k2/m2\n",
    "    ttune2 = tguess2/a2\n",
    "\n",
    "    kp1 = tguess1 / kguess1 / ttune1\n",
    "    ki1 = kp1 / tguess1\n",
    "\n",
    "    kp2 = tguess2 / kguess2 / ttune2\n",
    "    ki2 = kp2 / tguess2\n",
    "\n",
    "    ds4 = t1*t2\n",
    "    ds3 = k1*kp1*t2 + t1 + t2\n",
    "    ds2 = k1*k2*kp1*kp2 + k1*ki1*t2 + k1*kp1 + 1\n",
    "    ds1 = k1*k2*ki1*kp2 + k1*k2*ki2*kp1 + k1*ki1\n",
    "    ds0 = k1*k2*ki1*ki2\n",
    "\n",
    "    ns2 = k1*k2*kp1*kp2\n",
    "    ns1 = k1*k2*ki1*kp2 + k1*k2*ki2*kp1\n",
    "    ns0 = k1*k2*ki1*ki2\n",
    "\n",
    "\n",
    "    den_cas = [ds4,ds3,ds2,ds1,ds0]\n",
    "    num_cas = [ns2,ns1,ns0]\n",
    "\n",
    "    tfc = mtl.tf(num_cas,den_cas)\n",
    "    sysd = signal.cont2discrete([num_cas,den],dT)\n",
    "    tfd = mtl.tf(sysd[0][0],sysd[1],sysd[2])\n",
    "    return tfc,tfd\n",
    "\n",
    "for a1 in a1r:\n",
    "    for m1 in m1r:\n",
    "        for a2 in a2r:\n",
    "            for m2 in m1r:\n",
    "                tfc,tfd = update_cascaded_tf_cd(m1,a1,m2,a2,t1,t2,k1,k2,dT)\n",
    "                gmt,pmt,smt,wgt,wpt,wst = ctrl.stability_margins(tfc)\n",
    "                damp = tfc.damp()\n",
    "                dfc = pd.DataFrame([[a1,m1,a2,m2,pmt,gmt,smt,wgt,wpt,wst,damp[0],damp[1],damp[2]]],columns = ['a1','m1','a2','m2','PM','GM','SM','WG','WP','WS','Wn','Zeta','Poles'])\n",
    "                sys_c_stab_cas = sys_c_stab_cas.append(dfc,ignore_index=True)\n",
    "                gmt,pmt,smt,wgt,wpt,wst = ctrl.stability_margins(tfd)\n",
    "                damp = tfd.damp()\n",
    "                dfc = pd.DataFrame([[a1,m1,a2,m2,pmt,gmt,smt,wgt,wpt,wst,damp[0],damp[1],damp[2]]],columns = ['a1','m1','a2','m2','PM','GM','SM','WG','WP','WS','Wn','Zeta','Poles']) \n",
    "                sys_d_stab_cas = sys_d_stab_cas.append(dfc,ignore_index=True)\n"
   ]
  },
  {
   "cell_type": "code",
   "execution_count": 28,
   "metadata": {},
   "outputs": [
    {
     "name": "stdout",
     "output_type": "stream",
     "text": [
      "<class 'pandas.core.frame.DataFrame'>\n",
      "RangeIndex: 1225 entries, 0 to 1224\n",
      "Data columns (total 15 columns):\n",
      " #   Column  Non-Null Count  Dtype  \n",
      "---  ------  --------------  -----  \n",
      " 0   a1:     0 non-null      float64\n",
      " 1   m1      1225 non-null   float64\n",
      " 2   a2:     0 non-null      float64\n",
      " 3   m2      1225 non-null   float64\n",
      " 4   PM      1225 non-null   float64\n",
      " 5   GM      1225 non-null   float64\n",
      " 6   SM      1225 non-null   float64\n",
      " 7   WG      0 non-null      float64\n",
      " 8   WP      496 non-null    float64\n",
      " 9   WS      1225 non-null   float64\n",
      " 10  Wn      1225 non-null   object \n",
      " 11  Zeta    1225 non-null   object \n",
      " 12  Poles   1225 non-null   object \n",
      " 13  a1      1225 non-null   float64\n",
      " 14  a2      1225 non-null   float64\n",
      "dtypes: float64(12), object(3)\n",
      "memory usage: 143.7+ KB\n",
      "Cont:  None\n",
      "<class 'pandas.core.frame.DataFrame'>\n",
      "RangeIndex: 1225 entries, 0 to 1224\n",
      "Data columns (total 15 columns):\n",
      " #   Column  Non-Null Count  Dtype  \n",
      "---  ------  --------------  -----  \n",
      " 0   a1:     0 non-null      float64\n",
      " 1   m1      1225 non-null   float64\n",
      " 2   a2:     0 non-null      float64\n",
      " 3   m2      1225 non-null   float64\n",
      " 4   PM      1225 non-null   float64\n",
      " 5   GM      1225 non-null   float64\n",
      " 6   SM      1225 non-null   float64\n",
      " 7   WG      0 non-null      float64\n",
      " 8   WP      0 non-null      float64\n",
      " 9   WS      0 non-null      float64\n",
      " 10  Wn      1225 non-null   object \n",
      " 11  Zeta    1225 non-null   object \n",
      " 12  Poles   1225 non-null   object \n",
      " 13  a1      1225 non-null   float64\n",
      " 14  a2      1225 non-null   float64\n",
      "dtypes: float64(12), object(3)\n",
      "memory usage: 143.7+ KB\n",
      "Disc:  None\n"
     ]
    }
   ],
   "source": [
    "print('Cont: ',sys_c_stab_cas.info())\n",
    "print('Disc: ',sys_d_stab_cas.info())"
   ]
  },
  {
   "cell_type": "code",
   "execution_count": 29,
   "metadata": {},
   "outputs": [
    {
     "name": "stdout",
     "output_type": "stream",
     "text": [
      "Cont min PM:  38.37753901858446  GM: inf  Zeta: 0.9671462266086273\n",
      "Disc min PM:  inf  GM: inf  Zeta: 1.0\n"
     ]
    }
   ],
   "source": [
    "print('Cont min PM: ',sys_c_stab_cas['PM'].min(), ' GM:',sys_c_stab_cas['GM'].min(), ' Zeta:',sys_c_stab_cas['Zeta'][0].min())\n",
    "print('Disc min PM: ',sys_d_stab_cas['PM'].min(), ' GM:',sys_d_stab_cas['GM'].min(), ' Zeta:',sys_d_stab_cas['Zeta'][0].min())"
   ]
  },
  {
   "cell_type": "code",
   "execution_count": 24,
   "metadata": {},
   "outputs": [
    {
     "data": {
      "text/plain": [
       "34"
      ]
     },
     "execution_count": 24,
     "metadata": {},
     "output_type": "execute_result"
    }
   ],
   "source": [
    "sys_c_stab_cas['PM'].idxmin()"
   ]
  },
  {
   "cell_type": "code",
   "execution_count": 30,
   "metadata": {},
   "outputs": [
    {
     "data": {
      "text/plain": [
       "a1:                                                    NaN\n",
       "m1                                                     0.5\n",
       "a2:                                                    NaN\n",
       "m2                                                       2\n",
       "PM                                                 38.3775\n",
       "GM                                                     inf\n",
       "SM                                                0.521158\n",
       "WG                                                     NaN\n",
       "WP                                                 10.6492\n",
       "WS                                                 12.0267\n",
       "Wn       [7.7799580059284885, 7.7799580059284885, 2.318...\n",
       "Zeta     [0.24194748741985816, 0.24194748741985816, 1.0...\n",
       "Poles    [(-1.8823412917664077+7.548810358945438j), (-1...\n",
       "a1                                                       2\n",
       "a2                                                      10\n",
       "Name: 34, dtype: object"
      ]
     },
     "execution_count": 30,
     "metadata": {},
     "output_type": "execute_result"
    }
   ],
   "source": [
    "sys_c_stab_cas.iloc[sys_c_stab_cas['PM'].idxmin()]"
   ]
  },
  {
   "cell_type": "code",
   "execution_count": 235,
   "metadata": {},
   "outputs": [
    {
     "data": {
      "image/png": "[encoded data removed]",
      "text/plain": [
       "<Figure size 432x288 with 1 Axes>"
      ]
     },
     "metadata": {
      "needs_background": "light"
     },
     "output_type": "display_data"
    }
   ],
   "source": [
    "#discrete domain\n",
    "def discretize_ft()"
   ]
  },
  {
   "cell_type": "code",
   "execution_count": null,
   "metadata": {},
   "outputs": [],
   "source": []
  }
 ],
 "metadata": {
  "kernelspec": {
   "display_name": "Python 3",
   "language": "python",
   "name": "python3"
  },
  "language_info": {
   "codemirror_mode": {
    "name": "ipython",
    "version": 3
   },
   "file_extension": ".py",
   "mimetype": "text/x-python",
   "name": "python",
   "nbconvert_exporter": "python",
   "pygments_lexer": "ipython3",
   "version": "3.7.7"
  }
 },
 "nbformat": 4,
 "nbformat_minor": 4
}
