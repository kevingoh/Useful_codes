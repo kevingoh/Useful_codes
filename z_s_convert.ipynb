{
 "cells": [
  {
   "cell_type": "markdown",
   "metadata": {},
   "source": [
    "# Continuous to Discrete Symbol Math"
   ]
  },
  {
   "cell_type": "code",
   "execution_count": 3,
   "metadata": {},
   "outputs": [],
   "source": [
    "from sympy import *"
   ]
  },
  {
   "cell_type": "code",
   "execution_count": 23,
   "metadata": {},
   "outputs": [],
   "source": [
    "z,s,Ts,ω = symbols('z,s,Ts,ω')\n",
    "\n",
    "def c2d_symbol(expression:Basic,method='backward'):\n",
    "    \"\"\"\n",
    "    inputs:\n",
    "     expression: symbolic expression of the continuous system in s domain\n",
    "     method: \n",
    "        1. backward - backward euler approximation, s --> (z-1)/(Ts*z) (default)\n",
    "        2. forward  - forward euler approximation, s --> (z-1)/Ts\n",
    "        3. tustin   - bilinear, s --> 2/Ts * (z-1)/(z+1)\n",
    "        4. prewarp  - Tustin with frequency ω prewarpped, s --> ω/tan(ω*Ts/2) * (z-1)/(z+1)\n",
    "     returns:\n",
    "      discretized expression in z domain\n",
    "    \"\"\"\n",
    "    if not isinstance(expression,Basic):\n",
    "        raise TypeError(\"not a valid sympy expression\")\n",
    "        \n",
    "    if method == \"backward\":\n",
    "        expression = expression.subs(s,(z-1)/(Ts*z))\n",
    "    if method == \"forward\":\n",
    "        expression = expression.subs(s,(z-1)/Ts)\n",
    "    if method == \"tustin\":\n",
    "        expression = expression.subs(s,2/Ts*(z-1)/(z+1))\n",
    "    if method == \"prewarp\":\n",
    "        expression = expression.subs(s,ω/tan(ω*Ts/2)*(z-1)/(z+1))         \n",
    "    expression = collect(expression.expand().simplify(),z)\n",
    "    return expression\n",
    "    "
   ]
  },
  {
   "cell_type": "code",
   "execution_count": 21,
   "metadata": {},
   "outputs": [
    {
     "data": {
      "text/latex": [
       "$\\displaystyle \\frac{k}{Tc s + 1}$"
      ],
      "text/plain": [
       "k/(Tc*s + 1)"
      ]
     },
     "execution_count": 21,
     "metadata": {},
     "output_type": "execute_result"
    }
   ],
   "source": [
    "k,Tc = symbols('k Tc')\n",
    "sysc = k/(Tc*s+1)\n",
    "sysc"
   ]
  },
  {
   "cell_type": "code",
   "execution_count": 22,
   "metadata": {},
   "outputs": [
    {
     "data": {
      "text/latex": [
       "$\\displaystyle \\frac{Ts k z}{- Tc + z \\left(Tc + Ts\\right)}$"
      ],
      "text/plain": [
       "Ts*k*z/(-Tc + z*(Tc + Ts))"
      ]
     },
     "execution_count": 22,
     "metadata": {},
     "output_type": "execute_result"
    }
   ],
   "source": [
    "sysd = c2d_symbol(sysc)\n",
    "sysd"
   ]
  },
  {
   "cell_type": "code",
   "execution_count": 24,
   "metadata": {},
   "outputs": [
    {
     "data": {
      "text/latex": [
       "$\\displaystyle \\frac{Ts k}{Tc z - Tc + Ts}$"
      ],
      "text/plain": [
       "Ts*k/(Tc*z - Tc + Ts)"
      ]
     },
     "execution_count": 24,
     "metadata": {},
     "output_type": "execute_result"
    }
   ],
   "source": [
    "sysd = c2d_symbol(sysc,method=\"forward\")\n",
    "sysd"
   ]
  },
  {
   "cell_type": "code",
   "execution_count": 25,
   "metadata": {},
   "outputs": [
    {
     "data": {
      "text/latex": [
       "$\\displaystyle \\frac{Ts k \\left(z + 1\\right)}{- 2 Tc + Ts + z \\left(2 Tc + Ts\\right)}$"
      ],
      "text/plain": [
       "Ts*k*(z + 1)/(-2*Tc + Ts + z*(2*Tc + Ts))"
      ]
     },
     "execution_count": 25,
     "metadata": {},
     "output_type": "execute_result"
    }
   ],
   "source": [
    "sysd = c2d_symbol(sysc,method=\"tustin\")\n",
    "sysd"
   ]
  },
  {
   "cell_type": "code",
   "execution_count": 26,
   "metadata": {},
   "outputs": [
    {
     "data": {
      "text/latex": [
       "$\\displaystyle \\frac{k \\left(z + 1\\right) \\tan{\\left(\\frac{Ts ω}{2} \\right)}}{- Tc ω + z \\left(Tc ω + \\tan{\\left(\\frac{Ts ω}{2} \\right)}\\right) + \\tan{\\left(\\frac{Ts ω}{2} \\right)}}$"
      ],
      "text/plain": [
       "k*(z + 1)*tan(Ts*ω/2)/(-Tc*ω + z*(Tc*ω + tan(Ts*ω/2)) + tan(Ts*ω/2))"
      ]
     },
     "execution_count": 26,
     "metadata": {},
     "output_type": "execute_result"
    }
   ],
   "source": [
    "sysd = c2d_symbol(sysc,method=\"prewarp\")\n",
    "sysd"
   ]
  },
  {
   "cell_type": "code",
   "execution_count": null,
   "metadata": {},
   "outputs": [],
   "source": []
  }
 ],
 "metadata": {
  "kernelspec": {
   "display_name": "Python 3",
   "language": "python",
   "name": "python3"
  },
  "language_info": {
   "codemirror_mode": {
    "name": "ipython",
    "version": 3
   },
   "file_extension": ".py",
   "mimetype": "text/x-python",
   "name": "python",
   "nbconvert_exporter": "python",
   "pygments_lexer": "ipython3",
   "version": "3.7.7"
  }
 },
 "nbformat": 4,
 "nbformat_minor": 4
}
